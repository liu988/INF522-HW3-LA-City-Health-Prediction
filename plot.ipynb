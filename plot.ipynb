{
 "cells": [
  {
   "cell_type": "code",
   "execution_count": 2,
   "metadata": {},
   "outputs": [],
   "source": [
    "import numpy as np\n",
    "import pandas as pd"
   ]
  },
  {
   "cell_type": "code",
   "execution_count": 3,
   "metadata": {},
   "outputs": [
    {
     "data": {
      "text/plain": [
       "array([  2.,   2.,   3.,   5.,   2.,   6.,   4.,   6.,   6.,   1.,   6.,\n",
       "         1.,   4.,   6.,   0.,   5.,   5.,  10.,   3.,   6.,   3.,   2.,\n",
       "         5.,   3.,   5.,   3.,   3.,   3.,   0.,   4.,   5.,   2.,   5.,\n",
       "         1.,   4.,   3.,   5.,   1.,  10.,   6.,  10.,   4.,   4.,   2.,\n",
       "         1.,   3.,   0.,   4.,   6.,   6.,   2.,   2.,   4.,   5.,   4.,\n",
       "         5.,   3.,   2.,   6.,   3.,   6.,   4.,   6.,   3.,   4.,   4.,\n",
       "         3.,   4.,   4.,   6.,   2.,   6.,   3.,   5.,   1.,   6.,   6.,\n",
       "         6.,   5.,   4.,   4.,   6.,   5.,   5.,   5.,   6.,   0.,   6.,\n",
       "         5.,   3.,   4.,   5.,   6.,   4.,   4.,   4.,   4.,   3.,   6.,\n",
       "         2.,   2.,   1.,   2.,   1.,   2.,   6.,   5.,   2.,   6.,   6.,\n",
       "         2.,   5.,   4.,   6.])"
      ]
     },
     "execution_count": 3,
     "metadata": {},
     "output_type": "execute_result"
    }
   ],
   "source": [
    "with open(\"test_scores.txt\", \"r\") as f:\n",
    "    scores = f.read().split(\"\\n\")\n",
    "score = np.zeros(114)\n",
    "for i in range(114):\n",
    "    for j in np.arange(12):\n",
    "        score[i]+=float(scores[i*12+j])\n",
    "    score[i] = np.int64(score[i]/12)\n",
    "score"
   ]
  },
  {
   "cell_type": "code",
   "execution_count": 18,
   "metadata": {},
   "outputs": [],
   "source": [
    "l =[]   \n",
    "with open(\"lacity.txt\", \"r\") as f:\n",
    "    for line in f:\n",
    "        l.append(line)"
   ]
  },
  {
   "cell_type": "code",
   "execution_count": 19,
   "metadata": {
    "collapsed": true
   },
   "outputs": [],
   "source": [
    "colorList=[]\n",
    "centroid = []\n",
    "for i in range(len(l)):\n",
    "    if(\"#transBluePoly\" in l[i]):\n",
    "        colorList.append(i)\n",
    "    if(\"<Polygon>\" in l[i]):\n",
    "        centroid.append(i)"
   ]
  },
  {
   "cell_type": "code",
   "execution_count": 20,
   "metadata": {
    "collapsed": true
   },
   "outputs": [],
   "source": [
    "def set_color(s,n):\n",
    "    if(n<=0):n=0\n",
    "    if(n>=10):n=9\n",
    "    return (\"-\"+str(int(n))+\"</\").join(s.split(\"</\"))"
   ]
  },
  {
   "cell_type": "code",
   "execution_count": 21,
   "metadata": {},
   "outputs": [
    {
     "name": "stdout",
     "output_type": "stream",
     "text": [
      "114\n"
     ]
    }
   ],
   "source": [
    "from shapely import geometry\n",
    "with open(\"coorList.txt\", \"r\") as f:\n",
    "    temp = f.read()\n",
    "temp = temp[:-1].split(\"\\n\")\n",
    "polygon_list = [geometry.Polygon([(np.float64(j.split(\",\")[1]), np.float64(j.split(\",\")[0])) for j in i.split(\" \")[:-1]]) for i in temp]\n",
    "print len(polygon_list)"
   ]
  },
  {
   "cell_type": "code",
   "execution_count": null,
   "metadata": {},
   "outputs": [],
   "source": []
  },
  {
   "cell_type": "code",
   "execution_count": 22,
   "metadata": {},
   "outputs": [],
   "source": [
    "s = l[colorList[0]]\n",
    "for i in range(len(colorList)):\n",
    "    c =set_color(s,score[i])\n",
    "    #print c\n",
    "    l[colorList[i]] = c\n",
    "    #index = l[colorList[i]-1].find(\"</name>\")\n",
    "    #l[colorList[i]-1] = l[colorList[i]-1][:index] +\": \"+str(population_col[i]) + l[colorList[i]-1][index:]\n",
    "    #print l[colorList[i]-1]\n",
    "\n",
    "f = open('my_la_city.kml', 'w')\n",
    "#Writing the kml file.\n",
    "for i in l:\n",
    "    f.write(i)\n",
    "f.close()"
   ]
  },
  {
   "cell_type": "code",
   "execution_count": null,
   "metadata": {
    "collapsed": true
   },
   "outputs": [],
   "source": []
  }
 ],
 "metadata": {
  "kernelspec": {
   "display_name": "Python 2",
   "language": "python",
   "name": "python2"
  },
  "language_info": {
   "codemirror_mode": {
    "name": "ipython",
    "version": 2
   },
   "file_extension": ".py",
   "mimetype": "text/x-python",
   "name": "python",
   "nbconvert_exporter": "python",
   "pygments_lexer": "ipython2",
   "version": "2.7.13"
  }
 },
 "nbformat": 4,
 "nbformat_minor": 2
}
