{
 "cells": [
  {
   "cell_type": "code",
   "execution_count": 1,
   "metadata": {
    "collapsed": true
   },
   "outputs": [],
   "source": [
    "import numpy as np\n",
    "import pandas as pd"
   ]
  },
  {
   "cell_type": "code",
   "execution_count": 9,
   "metadata": {},
   "outputs": [
    {
     "name": "stdout",
     "output_type": "stream",
     "text": [
      "     SRNumber             CreatedDate             UpdatedDate ActionTaken  \\\n",
      "0  1-88224881  01/01/2016 08:12:35 AM  01/07/2016 07:39:04 AM  SR Created   \n",
      "\n",
      "  Owner             RequestType  Status RequestSource MobileOS Anonymous  \\\n",
      "0   BOS  Illegal Dumping Pickup  Closed          Call      NaN         N   \n",
      "\n",
      "       ...                              Location TBMPage TBMColumn TBMRow  \\\n",
      "0      ...        (34.051491916, -118.366682002)     633         A      4   \n",
      "\n",
      "           APC  CD            CDMember  NC       NCName PolicePrecinct  \n",
      "0  Central APC  10  Herb J. Wesson Jr.  60  P.I.C.O. NC       WILSHIRE  \n",
      "\n",
      "[1 rows x 33 columns]\n"
     ]
    }
   ],
   "source": [
    "dtype={'SRNumber': np.str_,\n",
    "       'CreatedDate': np.str_,\n",
    "       'UpdatedDate': np.str_,\n",
    "       'ActionTaken': np.str_,\n",
    "       'Owner': np.str_,\n",
    "       'RequestType': np.str_,\n",
    "       'Status': np.str_,\n",
    "       'RequestSource': np.str_,\n",
    "       'MobileOS': np.str_,\n",
    "       'Anonymous': np.str_,\n",
    "       'AssignTo': np.str_,\n",
    "       'ServiceDate': np.str_,\n",
    "       'ClosedDate': np.str_,\n",
    "       'AddressVerified': np.str_,\n",
    "       'ApproximateAddress': np.str_,\n",
    "       'Address': np.str_,\n",
    "       'HouseNumber': np.str_,\n",
    "       'Direction': np.str_,\n",
    "       'StreetName': np.str_,\n",
    "       'Suffix': np.str_,\n",
    "       'ZipCode': np.str_,\n",
    "       'Latitude': np.float64,\n",
    "       'Longitude': np.float64, \n",
    "       'Location': np.str_,\n",
    "       'TBMPage': np.str_,\n",
    "       'TBMColumn': np.str_,\n",
    "       'TBMRow': np.str_,\n",
    "       'APC': np.str_,\n",
    "       'CD': np.str_,\n",
    "       'CDMember': np.str_,\n",
    "       'NC': np.str_,\n",
    "       'NCName': np.str_,\n",
    "       'PolicePrecinct': np.str_,}\n",
    "\n",
    "data = pd.read_csv(\"MyLA311_Service_Request_Data_2016.csv\",dtype=dtype, usecols=dtype)\n",
    "print data.head(1)"
   ]
  },
  {
   "cell_type": "code",
   "execution_count": 10,
   "metadata": {
    "collapsed": true
   },
   "outputs": [],
   "source": [
    "\n",
    "from datetime import datetime"
   ]
  },
  {
   "cell_type": "code",
   "execution_count": 11,
   "metadata": {
    "collapsed": true
   },
   "outputs": [],
   "source": [
    "requestType = \"Bulky Items,Dead Animal Removal,Electronic Waste,Feedback,Graffiti Removal,Homeless Encampment,Illegal Dumping Pickup,Metal/Household Appliances,Multiple Streetlight Issue,Report Water Waste,Single Streetlight Issue\".split(\",\")"
   ]
  },
  {
   "cell_type": "code",
   "execution_count": 12,
   "metadata": {},
   "outputs": [
    {
     "name": "stdout",
     "output_type": "stream",
     "text": [
      "['Bulky Items', 'Dead Animal Removal', 'Electronic Waste', 'Feedback', 'Graffiti Removal', 'Homeless Encampment', 'Illegal Dumping Pickup', 'Metal/Household Appliances', 'Multiple Streetlight Issue', 'Report Water Waste', 'Single Streetlight Issue']\n"
     ]
    }
   ],
   "source": [
    "print(requestType)"
   ]
  },
  {
   "cell_type": "code",
   "execution_count": 15,
   "metadata": {},
   "outputs": [],
   "source": [
    "point_col = []\n",
    "month_col = []\n",
    "request_col = []\n",
    "time_col = []\n",
    "for i in np.arange(len(data)):\n",
    "    if(not np.isnan(data[\"Latitude\"][i])):\n",
    "        point_col.append(geometry.Point(data[\"Latitude\"][i],data[\"Longitude\"][i]))\n",
    "        t1 = datetime.strptime(data[\"CreatedDate\"][i], '%m/%d/%Y %I:%M:%S %p')\n",
    "        t2 = datetime.strptime(data[\"UpdatedDate\"][i], '%m/%d/%Y %I:%M:%S %p')\n",
    "        month_col.append(t1.month)\n",
    "        time_col.append((t2-t1).days)\n",
    "        request_col.append(data[\"RequestType\"][i])"
   ]
  },
  {
   "cell_type": "code",
   "execution_count": 16,
   "metadata": {},
   "outputs": [
    {
     "name": "stdout",
     "output_type": "stream",
     "text": [
      "114\n"
     ]
    }
   ],
   "source": [
    "with open(\"coorList.txt\", \"r\") as f:\n",
    "    temp = f.read()\n",
    "temp = temp[:-1].split(\"\\n\")\n",
    "polygon_list = [geometry.Polygon([(np.float64(j.split(\",\")[1]), np.float64(j.split(\",\")[0])) for j in i.split(\" \")[:-1]]) for i in temp]\n",
    "print len(polygon_list)"
   ]
  },
  {
   "cell_type": "code",
   "execution_count": 17,
   "metadata": {
    "collapsed": true
   },
   "outputs": [],
   "source": [
    "data2 = pd.read_csv(\"health_data.csv\", names=['year','latitude','a','longitude','b','population','value'])\n",
    "health_latitude = [np.float64(i[9:]) for i in data2[\"latitude\"]][2:]\n",
    "health_longitude = [np.float64(i[9:]) for i in data2[\"longitude\"]][2:]\n",
    "health_point = [geometry.Point(health_latitude[i],health_longitude[i]) for i in np.arange(len(health_latitude))]\n",
    "population_col = [i for i in data2[\"population\"]][2:]\n",
    "value_col = [i for i in data2[\"value\"]][2:]\n",
    "\n",
    "for i in np.arange(len(value_col)):\n",
    "    if(\"Empty\" in value_col[i]):\n",
    "        value_col[i] = 0\n",
    "    else:\n",
    "        value_col[i] = int(float(value_col[i])/100*population_col[i])"
   ]
  },
  {
   "cell_type": "code",
   "execution_count": 18,
   "metadata": {
    "collapsed": true
   },
   "outputs": [],
   "source": [
    "health_dataset = np.zeros((len(polygon_list),2))\n",
    "for i in np.arange(len(health_point)):\n",
    "    for j in np.arange(len(polygon_list)):\n",
    "        if(polygon_list[j].contains(health_point[i])):\n",
    "            health_dataset[j,0]+=population_col[i]\n",
    "            health_dataset[j,1]+=value_col[i]"
   ]
  },
  {
   "cell_type": "code",
   "execution_count": 20,
   "metadata": {},
   "outputs": [
    {
     "name": "stdout",
     "output_type": "stream",
     "text": [
      "[[  1.75250000e+04   3.19400000e+03]\n",
      " [  3.11870000e+04   4.73400000e+03]\n",
      " [  1.80340000e+04   3.04500000e+03]\n",
      " [  1.08470000e+04   1.28300000e+03]\n",
      " [  3.03740000e+04   4.96400000e+03]\n",
      " [  8.26100000e+03   6.98000000e+02]\n",
      " [  1.21910000e+04   1.10900000e+03]\n",
      " [  2.09980000e+04   1.82100000e+03]\n",
      " [  4.04300000e+03   3.31000000e+02]\n",
      " [  9.11930000e+04   1.89240000e+04]\n",
      " [  3.25840000e+04   2.47300000e+03]\n",
      " [  2.18300000e+04   4.69500000e+03]\n",
      " [  5.88020000e+04   8.15900000e+03]\n",
      " [  3.28900000e+03   3.19000000e+02]\n",
      " [  4.34470000e+04   9.81100000e+03]\n",
      " [  2.42800000e+03   2.62000000e+02]\n",
      " [  3.95500000e+04   4.17900000e+03]\n",
      " [  8.00000000e+00   0.00000000e+00]\n",
      " [  1.42690000e+04   2.49100000e+03]\n",
      " [  9.02300000e+03   7.71000000e+02]\n",
      " [  2.07430000e+04   3.49600000e+03]\n",
      " [  9.34200000e+03   1.65900000e+03]\n",
      " [  2.76140000e+04   3.33100000e+03]\n",
      " [  4.41700000e+04   7.65200000e+03]\n",
      " [  3.16100000e+04   3.32600000e+03]\n",
      " [  6.73930000e+04   1.13860000e+04]\n",
      " [  3.42520000e+04   4.46900000e+03]\n",
      " [  3.95820000e+04   6.31400000e+03]\n",
      " [  1.64000000e+02   4.10000000e+01]\n",
      " [  1.01430000e+04   1.38200000e+03]\n",
      " [  4.42810000e+04   4.58200000e+03]\n",
      " [  3.27970000e+04   6.52700000e+03]\n",
      " [  1.49050000e+04   1.27700000e+03]\n",
      " [  4.90010000e+04   1.05100000e+04]\n",
      " [  2.37080000e+04   3.39000000e+03]\n",
      " [  1.03610000e+04   1.56500000e+03]\n",
      " [  5.59810000e+04   6.24600000e+03]\n",
      " [  3.77090000e+04   7.80100000e+03]\n",
      " [  1.40000000e+01   0.00000000e+00]\n",
      " [  1.11740000e+04   9.18000000e+02]\n",
      " [  3.30000000e+01   0.00000000e+00]\n",
      " [  2.37270000e+04   3.32800000e+03]\n",
      " [  4.01360000e+04   5.91000000e+03]\n",
      " [  2.37610000e+04   4.33500000e+03]\n",
      " [  3.52600000e+03   7.22000000e+02]\n",
      " [  5.27770000e+04   8.23800000e+03]\n",
      " [  4.35720000e+04   9.98700000e+03]\n",
      " [  7.51550000e+04   9.82600000e+03]\n",
      " [  2.44230000e+04   2.03400000e+03]\n",
      " [  1.31740000e+04   1.14000000e+03]\n",
      " [  3.66260000e+04   6.44400000e+03]\n",
      " [  2.55480000e+04   4.80000000e+03]\n",
      " [  9.83580000e+04   1.40210000e+04]\n",
      " [  2.69610000e+04   3.35600000e+03]\n",
      " [  1.67690000e+04   2.51300000e+03]\n",
      " [  7.26500000e+03   8.12000000e+02]\n",
      " [  1.18090000e+04   1.97700000e+03]\n",
      " [  2.49660000e+04   4.72900000e+03]\n",
      " [  3.23110000e+04   3.16200000e+03]\n",
      " [  8.24700000e+03   1.28500000e+03]\n",
      " [  3.49250000e+04   3.45800000e+03]\n",
      " [  5.31340000e+04   7.70200000e+03]\n",
      " [  4.33530000e+04   4.19000000e+03]\n",
      " [  1.84590000e+04   2.42200000e+03]\n",
      " [  1.95650000e+04   2.82900000e+03]\n",
      " [  1.50340000e+04   2.04800000e+03]\n",
      " [  5.40860000e+04   8.26100000e+03]\n",
      " [  7.74700000e+04   1.07700000e+04]\n",
      " [  5.91910000e+04   6.95500000e+03]\n",
      " [  2.44760000e+04   2.04800000e+03]\n",
      " [  7.70210000e+04   1.39530000e+04]\n",
      " [  4.30140000e+04   3.78700000e+03]\n",
      " [  7.11940000e+04   1.21040000e+04]\n",
      " [  1.87940000e+04   1.85700000e+03]\n",
      " [  4.31270000e+04   8.68300000e+03]\n",
      " [  1.22480000e+04   1.00300000e+03]\n",
      " [  8.92600000e+03   6.91000000e+02]\n",
      " [  2.65140000e+04   2.46000000e+03]\n",
      " [  2.44900000e+03   2.59000000e+02]\n",
      " [  6.83920000e+04   1.00290000e+04]\n",
      " [  7.85440000e+04   1.11580000e+04]\n",
      " [  3.52690000e+04   3.06600000e+03]\n",
      " [  1.86000000e+02   1.90000000e+01]\n",
      " [  1.30580000e+04   1.55700000e+03]\n",
      " [  6.73700000e+04   6.17800000e+03]\n",
      " [  2.89010000e+04   2.87400000e+03]\n",
      " [  3.80240000e+04   8.86400000e+03]\n",
      " [  3.88360000e+04   3.40100000e+03]\n",
      " [  1.35640000e+04   1.64200000e+03]\n",
      " [  7.50690000e+04   1.20220000e+04]\n",
      " [  7.88930000e+04   1.14580000e+04]\n",
      " [  3.78200000e+04   4.49800000e+03]\n",
      " [  9.72400000e+03   9.51000000e+02]\n",
      " [  2.58700000e+04   3.58900000e+03]\n",
      " [  2.34930000e+04   2.95600000e+03]\n",
      " [  5.58850000e+04   8.06200000e+03]\n",
      " [  1.95330000e+04   2.22400000e+03]\n",
      " [  1.05848000e+05   1.73460000e+04]\n",
      " [  3.26250000e+04   2.86000000e+03]\n",
      " [  2.52860000e+04   5.02400000e+03]\n",
      " [  3.31980000e+04   6.61100000e+03]\n",
      " [  4.36420000e+04   9.17300000e+03]\n",
      " [  2.50820000e+04   4.99900000e+03]\n",
      " [  3.95930000e+04   8.32500000e+03]\n",
      " [  2.23080000e+04   3.80200000e+03]\n",
      " [  3.89270000e+04   3.66000000e+03]\n",
      " [  4.13260000e+04   4.32600000e+03]\n",
      " [  1.02657000e+05   1.99230000e+04]\n",
      " [  1.83060000e+04   1.50400000e+03]\n",
      " [  5.14850000e+04   4.19000000e+03]\n",
      " [  5.30790000e+04   9.69800000e+03]\n",
      " [  7.18200000e+03   7.24000000e+02]\n",
      " [  5.46860000e+04   7.60700000e+03]\n",
      " [  5.33690000e+04   5.21400000e+03]]\n",
      "['Bulky Items', 'Dead Animal Removal', 'Electronic Waste', 'Feedback', 'Graffiti Removal', 'Homeless Encampment', 'Illegal Dumping Pickup', 'Metal/Household Appliances', 'Multiple Streetlight Issue', 'Report Water Waste', 'Single Streetlight Issue', 'population', 'value']\n"
     ]
    }
   ],
   "source": [
    "print health_dataset\n",
    "header = list(requestType)\n",
    "header.append(\"population\")\n",
    "header.append(\"value\")\n",
    "print header"
   ]
  },
  {
   "cell_type": "code",
   "execution_count": 34,
   "metadata": {
    "collapsed": true
   },
   "outputs": [],
   "source": [
    "dataset = np.zeros((len(health_dataset)*12,len(header)))\n",
    "for i in np.arange(len(point_col)):\n",
    "    for j in np.arange(len(polygon_list)):\n",
    "        if(polygon_list[j].contains(point_col[i]) and request_col[i] in requestType):\n",
    "            dataset[j*12+month_col[i]-1,header.index(request_col[i])]+=1"
   ]
  },
  {
   "cell_type": "code",
   "execution_count": 38,
   "metadata": {},
   "outputs": [
    {
     "name": "stdout",
     "output_type": "stream",
     "text": [
      "25.0\n",
      "[[  1.86586647e-15   8.48121124e-17   1.59022711e-16 ...,   0.00000000e+00\n",
      "    1.75250000e+04   2.70984308e+00]\n",
      " [  1.35699380e-15   6.36090843e-17   1.48421197e-16 ...,   0.00000000e+00\n",
      "    1.75250000e+04   2.70984308e+00]\n",
      " [  1.62203165e-15   6.36090843e-17   2.01428767e-16 ...,   2.00000000e+00\n",
      "    1.75250000e+04   2.70984308e+00]\n",
      " ..., \n",
      " [  5.48534250e-17   2.58858860e-18   5.54697556e-18 ...,   2.20000000e+01\n",
      "    5.33690000e+04   6.09211340e+00]\n",
      " [  5.04158446e-17   1.72572573e-18   5.30044332e-18 ...,   1.60000000e+01\n",
      "    5.33690000e+04   6.09211340e+00]\n",
      " [  5.00460462e-17   3.20491921e-18   6.16330618e-18 ...,   1.60000000e+01\n",
      "    5.33690000e+04   6.09211340e+00]]\n"
     ]
    }
   ],
   "source": [
    "for i in np.arange(len(health_dataset)):\n",
    "    for j in np.arange(12):\n",
    "        for k in range(header.index(\"population\")-1):\n",
    "            dataset[i*12+j,k] = dataset[i*12+j,k]/health_dataset[i][0]\n",
    "        dataset[i*12+j,header.index(\"population\")] = health_dataset[i][0]\n",
    "        dataset[i*12+j,header.index(\"value\")] = health_dataset[i][1]/health_dataset[i][0]*100\n",
    "max_v = max(dataset[:,12])\n",
    "print max_v\n",
    "for i in np.arange(len(dataset)):\n",
    "    dataset[i,12] = (max_v-dataset[i,12])/max_v*10\n",
    "print dataset"
   ]
  },
  {
   "cell_type": "raw",
   "metadata": {},
   "source": []
  },
  {
   "cell_type": "code",
   "execution_count": 43,
   "metadata": {},
   "outputs": [],
   "source": [
    "import math\n",
    "for i in np.arange(len(dataset)):\n",
    "    dataset[i,12] = math.ceil((dataset[i,12]))"
   ]
  },
  {
   "cell_type": "code",
   "execution_count": 44,
   "metadata": {},
   "outputs": [],
   "source": [
    "np.savetxt(\"data.csv\", dataset, delimiter=\",\")"
   ]
  },
  {
   "cell_type": "code",
   "execution_count": 45,
   "metadata": {},
   "outputs": [],
   "source": [
    "import scipy.stats as stats"
   ]
  },
  {
   "cell_type": "code",
   "execution_count": 48,
   "metadata": {},
   "outputs": [],
   "source": [
    "with open(\"test_scores.txt\", \"r\") as f:\n",
    "    scores = f.read().split(\"\\n\")\n",
    "score = np.zeros(114)\n",
    "for i in range(114):\n",
    "    for j in np.arange(12):\n",
    "        score[i]+=float(scores[i*12+j])\n",
    "    score[i] = np.int64(score[i]/12)\n",
    "\n",
    "t_stat, p_val = stats.ttest_ind(score, dataset[:,8], equal_var=False)"
   ]
  },
  {
   "cell_type": "code",
   "execution_count": 49,
   "metadata": {},
   "outputs": [
    {
     "data": {
      "text/plain": [
       "21.520556418625151"
      ]
     },
     "execution_count": 49,
     "metadata": {},
     "output_type": "execute_result"
    }
   ],
   "source": [
    "t_stat"
   ]
  },
  {
   "cell_type": "code",
   "execution_count": 50,
   "metadata": {},
   "outputs": [
    {
     "data": {
      "text/plain": [
       "8.9180701404742706e-42"
      ]
     },
     "execution_count": 50,
     "metadata": {},
     "output_type": "execute_result"
    }
   ],
   "source": [
    "p_val"
   ]
  },
  {
   "cell_type": "code",
   "execution_count": 51,
   "metadata": {
    "collapsed": true
   },
   "outputs": [],
   "source": [
    "from sklearn.ensemble import ExtraTreesClassifier"
   ]
  },
  {
   "cell_type": "code",
   "execution_count": 52,
   "metadata": {},
   "outputs": [
    {
     "name": "stdout",
     "output_type": "stream",
     "text": [
      "population\n",
      "Single Streetlight Issue\n",
      "Bulky Items\n",
      "Graffiti Removal\n",
      "Illegal Dumping Pickup\n",
      "Dead Animal Removal\n",
      "Electronic Waste\n",
      "Homeless Encampment\n",
      "Report Water Waste\n",
      "Metal/Household Appliances\n",
      "Feedback\n",
      "Multiple Streetlight Issue\n",
      "Feedback\n",
      "Multiple Streetlight Issue\n"
     ]
    }
   ],
   "source": [
    "data = dataset[:,:-1]\n",
    "target = dataset[:,-1]\n",
    "model = ExtraTreesClassifier()\n",
    "model.fit(data, target)\n",
    "feature_scores = model.feature_importances_\n",
    "fs = np.sort(feature_scores)[::-1]\n",
    "rank =[]\n",
    "for i in fs:\n",
    "    for j in range(len(feature_scores)):\n",
    "        if(i == feature_scores[j]):\n",
    "            rank.append(j)\n",
    "for i in rank:\n",
    "    print header[i]"
   ]
  },
  {
   "cell_type": "code",
   "execution_count": null,
   "metadata": {
    "collapsed": true
   },
   "outputs": [],
   "source": []
  },
  {
   "cell_type": "code",
   "execution_count": null,
   "metadata": {
    "collapsed": true
   },
   "outputs": [],
   "source": []
  },
  {
   "cell_type": "code",
   "execution_count": null,
   "metadata": {},
   "outputs": [],
   "source": []
  },
  {
   "cell_type": "code",
   "execution_count": null,
   "metadata": {},
   "outputs": [],
   "source": []
  },
  {
   "cell_type": "code",
   "execution_count": null,
   "metadata": {
    "collapsed": true
   },
   "outputs": [],
   "source": []
  },
  {
   "cell_type": "code",
   "execution_count": null,
   "metadata": {
    "collapsed": true
   },
   "outputs": [],
   "source": []
  },
  {
   "cell_type": "raw",
   "metadata": {},
   "source": []
  },
  {
   "cell_type": "code",
   "execution_count": null,
   "metadata": {
    "collapsed": true
   },
   "outputs": [],
   "source": []
  },
  {
   "cell_type": "code",
   "execution_count": null,
   "metadata": {
    "collapsed": true
   },
   "outputs": [],
   "source": []
  },
  {
   "cell_type": "code",
   "execution_count": null,
   "metadata": {
    "collapsed": true
   },
   "outputs": [],
   "source": []
  },
  {
   "cell_type": "code",
   "execution_count": null,
   "metadata": {
    "collapsed": true
   },
   "outputs": [],
   "source": []
  },
  {
   "cell_type": "code",
   "execution_count": null,
   "metadata": {
    "collapsed": true
   },
   "outputs": [],
   "source": []
  },
  {
   "cell_type": "code",
   "execution_count": null,
   "metadata": {
    "collapsed": true
   },
   "outputs": [],
   "source": []
  },
  {
   "cell_type": "code",
   "execution_count": null,
   "metadata": {
    "collapsed": true
   },
   "outputs": [],
   "source": []
  },
  {
   "cell_type": "code",
   "execution_count": null,
   "metadata": {},
   "outputs": [],
   "source": []
  },
  {
   "cell_type": "code",
   "execution_count": null,
   "metadata": {
    "collapsed": true
   },
   "outputs": [],
   "source": []
  },
  {
   "cell_type": "code",
   "execution_count": null,
   "metadata": {},
   "outputs": [],
   "source": []
  },
  {
   "cell_type": "code",
   "execution_count": null,
   "metadata": {},
   "outputs": [],
   "source": []
  },
  {
   "cell_type": "code",
   "execution_count": null,
   "metadata": {
    "collapsed": true
   },
   "outputs": [],
   "source": []
  },
  {
   "cell_type": "code",
   "execution_count": null,
   "metadata": {},
   "outputs": [],
   "source": []
  },
  {
   "cell_type": "code",
   "execution_count": null,
   "metadata": {
    "collapsed": true
   },
   "outputs": [],
   "source": []
  }
 ],
 "metadata": {
  "kernelspec": {
   "display_name": "Python 2",
   "language": "python",
   "name": "python2"
  },
  "language_info": {
   "codemirror_mode": {
    "name": "ipython",
    "version": 2
   },
   "file_extension": ".py",
   "mimetype": "text/x-python",
   "name": "python",
   "nbconvert_exporter": "python",
   "pygments_lexer": "ipython2",
   "version": "2.7.13"
  }
 },
 "nbformat": 4,
 "nbformat_minor": 2
}
